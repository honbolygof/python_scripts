{
 "cells": [
  {
   "cell_type": "markdown",
   "metadata": {},
   "source": [
    "#Python script to analyze excel results of Intro to Neuroscience exams"
   ]
  },
  {
   "cell_type": "markdown",
   "metadata": {},
   "source": [
    "Import necessary libraries"
   ]
  },
  {
   "cell_type": "code",
   "execution_count": 1,
   "metadata": {},
   "outputs": [],
   "source": [
    "import numpy as np\n",
    "import pandas as pd\n",
    "import os"
   ]
  },
  {
   "cell_type": "markdown",
   "metadata": {},
   "source": [
    "Set working directory"
   ]
  },
  {
   "cell_type": "code",
   "execution_count": 2,
   "metadata": {},
   "outputs": [],
   "source": [
    "os.chdir('/Users/honbolygo/Documents/work/OKTATAS/oktatas_actual/bev_idegtud_2020_osz_vizsgakurzus/')"
   ]
  },
  {
   "cell_type": "markdown",
   "metadata": {},
   "source": [
    "Read excel file (with Hungarian decimals)"
   ]
  },
  {
   "cell_type": "code",
   "execution_count": 3,
   "metadata": {},
   "outputs": [],
   "source": [
    "Filename = 'Exam 2021.01.05-pontok'\n",
    "df_in=pd.read_excel(Filename +'.xlsx', decimal=\",\", na_values='-')"
   ]
  },
  {
   "cell_type": "markdown",
   "metadata": {},
   "source": [
    "Remove last row (containaing Globális átlag)"
   ]
  },
  {
   "cell_type": "code",
   "execution_count": 4,
   "metadata": {},
   "outputs": [],
   "source": [
    "df_in.drop(df_in.tail(1).index,inplace=True)"
   ]
  },
  {
   "cell_type": "markdown",
   "metadata": {},
   "source": [
    "Create variables from the necessary columns and the Neptun code"
   ]
  },
  {
   "cell_type": "code",
   "execution_count": 5,
   "metadata": {},
   "outputs": [],
   "source": [
    "neptun=df_in.iloc[:, 1:2]\n",
    "nev = df_in.iloc[:, 0:1]\n",
    "kit=df_in.iloc[:, 10:28].sum(1)\n",
    "neur=df_in.iloc[:, 28:46].sum(1)\n",
    "pf=df_in.iloc[:, 46:64].sum(1)"
   ]
  },
  {
   "cell_type": "markdown",
   "metadata": {},
   "source": [
    "Create a data series from the variables"
   ]
  },
  {
   "cell_type": "code",
   "execution_count": 6,
   "metadata": {},
   "outputs": [],
   "source": [
    "d = {'CNS sum' : kit, \n",
    "     'Neur sum' : neur,\n",
    "    'PF sum' : pf}"
   ]
  },
  {
   "cell_type": "markdown",
   "metadata": {},
   "source": [
    "Create the data frame"
   ]
  },
  {
   "cell_type": "code",
   "execution_count": 7,
   "metadata": {},
   "outputs": [],
   "source": [
    "df_out = pd.DataFrame(d)\n"
   ]
  },
  {
   "cell_type": "markdown",
   "metadata": {},
   "source": [
    "Add the Neptun code to the beginning (without the brackets)"
   ]
  },
  {
   "cell_type": "code",
   "execution_count": 8,
   "metadata": {},
   "outputs": [],
   "source": [
    "df_out.insert(0, 'Neptun', neptun)\n",
    "df_out['Neptun'] = df_out['Neptun'].str.replace('\\(', '')\n",
    "df_out['Neptun'] = df_out['Neptun'].str.replace('\\)', '')"
   ]
  },
  {
   "cell_type": "markdown",
   "metadata": {},
   "source": [
    "Calculate grades for KIT "
   ]
  },
  {
   "cell_type": "code",
   "execution_count": 9,
   "metadata": {},
   "outputs": [],
   "source": [
    "df_out.loc[df_out['CNS sum'] <=8, 'CNS grade'] = 1\n",
    "df_out.loc[(df_out['CNS sum'] >8) & (df_out['CNS sum'] <=11), 'CNS grade'] = 2\n",
    "df_out.loc[(df_out['CNS sum'] >11) & (df_out['CNS sum'] <=13), 'CNS grade'] = 3\n",
    "df_out.loc[(df_out['CNS sum'] >13) & (df_out['CNS sum'] <=15), 'CNS grade'] = 4\n",
    "df_out.loc[df_out['CNS sum'] >15, 'CNS grade'] = 5"
   ]
  },
  {
   "cell_type": "markdown",
   "metadata": {},
   "source": [
    "Calculate grades for Neur"
   ]
  },
  {
   "cell_type": "code",
   "execution_count": 10,
   "metadata": {},
   "outputs": [],
   "source": [
    "df_out.loc[df_out['Neur sum'] <=8, 'Neur grade'] = 1\n",
    "df_out.loc[(df_out['Neur sum'] >8) & (df_out['Neur sum'] <=11), 'Neur grade'] = 2\n",
    "df_out.loc[(df_out['Neur sum'] >11) & (df_out['Neur sum'] <=13), 'Neur grade'] = 3\n",
    "df_out.loc[(df_out['Neur sum'] >13) & (df_out['Neur sum'] <=15), 'Neur grade'] = 4\n",
    "df_out.loc[df_out['Neur sum'] >15, 'Neur grade'] = 5"
   ]
  },
  {
   "cell_type": "markdown",
   "metadata": {},
   "source": [
    "Calculate grades for Pszichofiz"
   ]
  },
  {
   "cell_type": "code",
   "execution_count": 11,
   "metadata": {},
   "outputs": [],
   "source": [
    "df_out.loc[df_out['PF sum'] <=8, 'PF grade'] = 1\n",
    "df_out.loc[(df_out['PF sum'] >8) & (df_out['PF sum'] <=11), 'PF grade'] = 2\n",
    "df_out.loc[(df_out['PF sum'] >11) & (df_out['PF sum'] <=13), 'PF grade'] = 3\n",
    "df_out.loc[(df_out['PF sum'] >13) & (df_out['PF sum'] <=15), 'PF grade'] = 4\n",
    "df_out.loc[df_out['PF sum'] >15, 'PF grade'] = 5"
   ]
  },
  {
   "cell_type": "markdown",
   "metadata": {},
   "source": [
    "Rearrange colums"
   ]
  },
  {
   "cell_type": "code",
   "execution_count": 12,
   "metadata": {},
   "outputs": [],
   "source": [
    "df_out = df_out[['Neptun','CNS sum','CNS grade','Neur sum','Neur grade', \n",
    "                 'PF sum', 'PF grade']]"
   ]
  },
  {
   "cell_type": "markdown",
   "metadata": {},
   "source": [
    "Calculate the sum of points"
   ]
  },
  {
   "cell_type": "code",
   "execution_count": 13,
   "metadata": {},
   "outputs": [],
   "source": [
    "df_out['Sum points'] = df_out['CNS sum'] + df_out['Neur sum'] + df_out['PF sum']"
   ]
  },
  {
   "cell_type": "markdown",
   "metadata": {},
   "source": [
    "Calculate and round the grades"
   ]
  },
  {
   "cell_type": "code",
   "execution_count": 14,
   "metadata": {},
   "outputs": [],
   "source": [
    "df_out['Grade'] = df_out[['CNS grade', 'Neur grade', 'PF grade']].mean(1).round(0)"
   ]
  },
  {
   "cell_type": "markdown",
   "metadata": {},
   "source": [
    "Write results as excel table"
   ]
  },
  {
   "cell_type": "markdown",
   "metadata": {},
   "source": [
    "Add name for sharing with collegues"
   ]
  },
  {
   "cell_type": "code",
   "execution_count": 15,
   "metadata": {},
   "outputs": [],
   "source": [
    "#df_out.insert(0, 'Teljes nev', nev)"
   ]
  },
  {
   "cell_type": "code",
   "execution_count": 16,
   "metadata": {},
   "outputs": [],
   "source": [
    "Filename_out = Filename + '_eredmeny'\n",
    "df_out.to_excel(Filename + '_eredmeny.xlsx', sheet_name='vizsga1')"
   ]
  },
  {
   "cell_type": "code",
   "execution_count": null,
   "metadata": {},
   "outputs": [],
   "source": []
  }
 ],
 "metadata": {
  "kernelspec": {
   "display_name": "Python 2",
   "language": "python",
   "name": "python2"
  },
  "language_info": {
   "codemirror_mode": {
    "name": "ipython",
    "version": 2
   },
   "file_extension": ".py",
   "mimetype": "text/x-python",
   "name": "python",
   "nbconvert_exporter": "python",
   "pygments_lexer": "ipython2",
   "version": "2.7.16"
  }
 },
 "nbformat": 4,
 "nbformat_minor": 2
}
