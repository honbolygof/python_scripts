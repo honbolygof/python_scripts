{
 "metadata": {
  "name": "",
  "signature": "sha256:7c45dfcc053199be12c849df7f76862de54a3a25d46c3b4530d63dc6408063ca"
 },
 "nbformat": 3,
 "nbformat_minor": 0,
 "worksheets": [
  {
   "cells": [
    {
     "cell_type": "code",
     "collapsed": false,
     "input": [
      "#import\n",
      "import pypsignifit as psi\n",
      "from pylab import *\n",
      "from numpy import *\n",
      "from scipy import *\n",
      "import scipy as sp"
     ],
     "language": "python",
     "metadata": {},
     "outputs": [],
     "prompt_number": 27
    },
    {
     "cell_type": "code",
     "collapsed": false,
     "input": [
      "#reading data\n",
      "#with open('input.csv', 'r') as in_file:\n",
      "#    a = in_file.readline()\n",
      "in_file = loadtxt('input.csv', delimiter=',')"
     ],
     "language": "python",
     "metadata": {},
     "outputs": [],
     "prompt_number": 2
    },
    {
     "cell_type": "code",
     "collapsed": false,
     "input": [
      "counter = 0"
     ],
     "language": "python",
     "metadata": {},
     "outputs": [],
     "prompt_number": 131
    },
    {
     "cell_type": "code",
     "collapsed": false,
     "input": [
      "#construction of data matrix\n",
      "stim = [1,2,3,4,5,6,7,8,9,10,11,12,13,14,15]\n",
      "#duration average \n",
      "correct = [0.093333333, 0.12, 0.146666667, 0.133333333, 0.226666667, 0.226666667, 0.146666667, 0.213333333, 0.186666667, \n",
      "           0.32, 0.52, 0.626666667, 0.64, 0.653333333, 0.653333333]\n",
      "#f0 average\n",
      "#correct = [0.106666667, 0.146666667, 0.093333333, 0.2, 0.133333333, 0.093333333, 0.213333333, 0.186666667, 0.426666667, \n",
      "#           0.52, 0.706666667, 0.72, 0.773333333, 0.88, 0.813333333]\n",
      "#int average\n",
      "#orrect = [0.08, 0.146666667, 0.133333333, 0.173333333, 0.146666667, 0.146666667, 0.16, 0.08, 0.213333333, 0.44, 0.613333333, \n",
      "#           0.72, 0.826666667, 0.826666667, 0.946666667]\n",
      "observation = [75]*len(correct)\n",
      "data_matrix = zip(stim,correct,observation)"
     ],
     "language": "python",
     "metadata": {},
     "outputs": [],
     "prompt_number": 52
    },
    {
     "cell_type": "code",
     "collapsed": false,
     "input": [
      "#fitting psychometric function\n",
      "B = psi.BootstrapInference ( data_matrix, priors = ('unconstrained', 'unconstrained', 'Beta (2,20)','Uniform(0,1)'), sigmoid = 'logistic', core = 'mw0.1', nafc = 1, cuts=(0.5)) \n",
      "B.sample()"
     ],
     "language": "python",
     "metadata": {},
     "outputs": [],
     "prompt_number": 62
    },
    {
     "cell_type": "code",
     "collapsed": false,
     "input": [
      "psi.GoodnessOfFit ( B )\n",
      "psi.show()"
     ],
     "language": "python",
     "metadata": {},
     "outputs": [],
     "prompt_number": 65
    },
    {
     "cell_type": "code",
     "collapsed": false,
     "input": [
      "params = B.estimate\n",
      "dev = B.deviance"
     ],
     "language": "python",
     "metadata": {},
     "outputs": [],
     "prompt_number": 13
    },
    {
     "cell_type": "code",
     "collapsed": false,
     "input": [
      "psi.ParameterPlot ( B )\n",
      "psi.show()"
     ],
     "language": "python",
     "metadata": {},
     "outputs": [],
     "prompt_number": 14
    },
    {
     "cell_type": "code",
     "collapsed": false,
     "input": [
      "print params"
     ],
     "language": "python",
     "metadata": {},
     "outputs": [
      {
       "output_type": "stream",
       "stream": "stdout",
       "text": [
        "[ 10.36612747   1.65017186   0.44782383   0.18305135]\n"
       ]
      }
     ],
     "prompt_number": 14
    },
    {
     "cell_type": "code",
     "collapsed": false,
     "input": [
      "#writing output files\n",
      "psi.GoodnessOfFit ( B )\n",
      "savefig ('gof_%d.png'%(counter,))\n",
      "\n",
      "psi.ParameterPlot ( B )\n",
      "savefig ('param_%d.png'%(counter,))\n",
      "\n",
      "with open('output.txt', 'a') as out_file:\n",
      "    for i in range (0, len(params)):\n",
      "        out_file.write(str(params[i]) + \" \")\n",
      "    out_file.write(str(dev) + \"\\n\")"
     ],
     "language": "python",
     "metadata": {},
     "outputs": [],
     "prompt_number": 151
    },
    {
     "cell_type": "code",
     "collapsed": false,
     "input": [
      "scipy.stats.binom.sf(51-1, 235, 1.0/6)"
     ],
     "language": "python",
     "metadata": {},
     "outputs": [
      {
       "ename": "NameError",
       "evalue": "name 'scipy' is not defined",
       "output_type": "pyerr",
       "traceback": [
        "\u001b[0;31m---------------------------------------------------------------------------\u001b[0m\n\u001b[0;31mNameError\u001b[0m                                 Traceback (most recent call last)",
        "\u001b[0;32m<ipython-input-18-ad148279e575>\u001b[0m in \u001b[0;36m<module>\u001b[0;34m()\u001b[0m\n\u001b[0;32m----> 1\u001b[0;31m \u001b[0mscipy\u001b[0m\u001b[0;34m.\u001b[0m\u001b[0mstats\u001b[0m\u001b[0;34m.\u001b[0m\u001b[0mbinom\u001b[0m\u001b[0;34m.\u001b[0m\u001b[0msf\u001b[0m\u001b[0;34m(\u001b[0m\u001b[0;36m51\u001b[0m\u001b[0;34m-\u001b[0m\u001b[0;36m1\u001b[0m\u001b[0;34m,\u001b[0m \u001b[0;36m235\u001b[0m\u001b[0;34m,\u001b[0m \u001b[0;36m1.0\u001b[0m\u001b[0;34m/\u001b[0m\u001b[0;36m6\u001b[0m\u001b[0;34m)\u001b[0m\u001b[0;34m\u001b[0m\u001b[0m\n\u001b[0m",
        "\u001b[0;31mNameError\u001b[0m: name 'scipy' is not defined"
       ]
      }
     ],
     "prompt_number": 18
    },
    {
     "cell_type": "code",
     "collapsed": false,
     "input": [
      "sp.stats.binom.sf(2070-1,3313,1.0/2, alternative=\"greater\")"
     ],
     "language": "python",
     "metadata": {},
     "outputs": [
      {
       "metadata": {},
       "output_type": "pyout",
       "prompt_number": 26,
       "text": [
        "1.7688200639082753e-47"
       ]
      }
     ],
     "prompt_number": 26
    },
    {
     "cell_type": "code",
     "collapsed": false,
     "input": [],
     "language": "python",
     "metadata": {},
     "outputs": []
    }
   ],
   "metadata": {}
  }
 ]
}