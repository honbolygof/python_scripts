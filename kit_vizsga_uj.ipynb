{
 "cells": [
  {
   "cell_type": "markdown",
   "metadata": {},
   "source": [
    "#Python script to analyze excel results of Intro to Neuroscience exams"
   ]
  },
  {
   "cell_type": "markdown",
   "metadata": {},
   "source": [
    "Import necessary libraries"
   ]
  },
  {
   "cell_type": "code",
   "execution_count": 1,
   "metadata": {},
   "outputs": [],
   "source": [
    "import numpy as np\n",
    "import pandas as pd\n",
    "import os"
   ]
  },
  {
   "cell_type": "markdown",
   "metadata": {},
   "source": [
    "Set working directory"
   ]
  },
  {
   "cell_type": "code",
   "execution_count": 2,
   "metadata": {},
   "outputs": [],
   "source": [
    "os.chdir('/Users/honbolygo/Documents/work/OKTATAS/oktatas_actual/bev_idegtud_2021_tavasz/vizsga_eredmenyek')"
   ]
  },
  {
   "cell_type": "markdown",
   "metadata": {},
   "source": [
    "Read excel file (with Hungarian decimals)"
   ]
  },
  {
   "cell_type": "code",
   "execution_count": 3,
   "metadata": {},
   "outputs": [],
   "source": [
    "Filename = 'Vizsga 2021.06.02.-pontok'\n",
    "df_in=pd.read_excel(Filename +'.xlsx', decimal=\",\", na_values='-')"
   ]
  },
  {
   "cell_type": "markdown",
   "metadata": {},
   "source": [
    "Remove last row (containing Globális átlag)"
   ]
  },
  {
   "cell_type": "code",
   "execution_count": 4,
   "metadata": {},
   "outputs": [],
   "source": [
    "df_in.drop(df_in.tail(1).index,inplace=True)"
   ]
  },
  {
   "cell_type": "markdown",
   "metadata": {},
   "source": [
    "Create variables from the necessary columns and the Neptun code"
   ]
  },
  {
   "cell_type": "code",
   "execution_count": 5,
   "metadata": {},
   "outputs": [],
   "source": [
    "neptun=df_in.iloc[:, 1:2]\n",
    "nev = df_in.iloc[:, 0:1]\n",
    "neur=df_in.iloc[:, 10:28].sum(1)\n",
    "kit=df_in.iloc[:, 28:64].sum(1)"
   ]
  },
  {
   "cell_type": "markdown",
   "metadata": {},
   "source": [
    "Create a data series from the variables"
   ]
  },
  {
   "cell_type": "code",
   "execution_count": 6,
   "metadata": {},
   "outputs": [],
   "source": [
    "d = {'Neur osszes' : neur, \n",
    "     'KIT osszes' : kit}"
   ]
  },
  {
   "cell_type": "markdown",
   "metadata": {},
   "source": [
    "Create the data frame"
   ]
  },
  {
   "cell_type": "code",
   "execution_count": 7,
   "metadata": {},
   "outputs": [],
   "source": [
    "df_out = pd.DataFrame(d)\n"
   ]
  },
  {
   "cell_type": "markdown",
   "metadata": {},
   "source": [
    "Add the Neptun code to the beginning (without the brackets)"
   ]
  },
  {
   "cell_type": "code",
   "execution_count": 8,
   "metadata": {},
   "outputs": [],
   "source": [
    "df_out.insert(0, 'Neptun', neptun)\n",
    "df_out['Neptun'] = df_out['Neptun'].str.replace('\\(', '')\n",
    "df_out['Neptun'] = df_out['Neptun'].str.replace('\\)', '')"
   ]
  },
  {
   "cell_type": "markdown",
   "metadata": {},
   "source": [
    "Calculate grades for KIT "
   ]
  },
  {
   "cell_type": "code",
   "execution_count": 9,
   "metadata": {},
   "outputs": [],
   "source": [
    "df_out.loc[df_out['KIT osszes'] <=16, 'KIT jegy'] = 1\n",
    "df_out.loc[(df_out['KIT osszes'] >16) & (df_out['KIT osszes'] <=22), 'KIT jegy'] = 2\n",
    "df_out.loc[(df_out['KIT osszes'] >22) & (df_out['KIT osszes'] <=26), 'KIT jegy'] = 3\n",
    "df_out.loc[(df_out['KIT osszes'] >26) & (df_out['KIT osszes'] <=29), 'KIT jegy'] = 4\n",
    "df_out.loc[df_out['KIT osszes'] >29, 'KIT jegy'] = 5"
   ]
  },
  {
   "cell_type": "markdown",
   "metadata": {},
   "source": [
    "Calculate grades for Neur"
   ]
  },
  {
   "cell_type": "code",
   "execution_count": 10,
   "metadata": {},
   "outputs": [],
   "source": [
    "df_out.loc[df_out['Neur osszes'] <=8, 'Neur jegy'] = 1\n",
    "df_out.loc[(df_out['Neur osszes'] >8) & (df_out['Neur osszes'] <=11), 'Neur jegy'] = 2\n",
    "df_out.loc[(df_out['Neur osszes'] >11) & (df_out['Neur osszes'] <=13), 'Neur jegy'] = 3\n",
    "df_out.loc[(df_out['Neur osszes'] >13) & (df_out['Neur osszes'] <=15), 'Neur jegy'] = 4\n",
    "df_out.loc[df_out['Neur osszes'] >15, 'Neur jegy'] = 5"
   ]
  },
  {
   "cell_type": "markdown",
   "metadata": {},
   "source": [
    "Rearrange colums"
   ]
  },
  {
   "cell_type": "code",
   "execution_count": 11,
   "metadata": {},
   "outputs": [],
   "source": [
    "df_out = df_out[['Neptun','KIT osszes','KIT jegy','Neur osszes','Neur jegy']]"
   ]
  },
  {
   "cell_type": "markdown",
   "metadata": {},
   "source": [
    "Calculate the sum of points"
   ]
  },
  {
   "cell_type": "code",
   "execution_count": 12,
   "metadata": {},
   "outputs": [],
   "source": [
    "df_out['Osszes pont'] = df_out['KIT osszes'] + df_out['Neur osszes']"
   ]
  },
  {
   "cell_type": "markdown",
   "metadata": {},
   "source": [
    "Calculate and round the grades"
   ]
  },
  {
   "cell_type": "code",
   "execution_count": 13,
   "metadata": {},
   "outputs": [],
   "source": [
    "#df_out['Jegy'] = df_out[['KIT jegy', 'Neur jegy', 'PF jegy']].mean(1).round(0)"
   ]
  },
  {
   "cell_type": "markdown",
   "metadata": {},
   "source": [
    "Write results as excel table"
   ]
  },
  {
   "cell_type": "markdown",
   "metadata": {},
   "source": [
    "Add name for sharing with collegues"
   ]
  },
  {
   "cell_type": "code",
   "execution_count": 14,
   "metadata": {},
   "outputs": [],
   "source": [
    "df_out.insert(0, 'Teljes nev', nev)"
   ]
  },
  {
   "cell_type": "code",
   "execution_count": 15,
   "metadata": {},
   "outputs": [],
   "source": [
    "Filename_out = Filename + '_eredmeny'\n",
    "df_out.to_excel(Filename + '_eredmeny.xlsx', sheet_name='vizsga1')"
   ]
  },
  {
   "cell_type": "code",
   "execution_count": null,
   "metadata": {},
   "outputs": [],
   "source": []
  },
  {
   "cell_type": "code",
   "execution_count": null,
   "metadata": {},
   "outputs": [],
   "source": []
  },
  {
   "cell_type": "code",
   "execution_count": null,
   "metadata": {},
   "outputs": [],
   "source": []
  },
  {
   "cell_type": "code",
   "execution_count": null,
   "metadata": {},
   "outputs": [],
   "source": []
  }
 ],
 "metadata": {
  "kernelspec": {
   "display_name": "Python 2",
   "language": "python",
   "name": "python2"
  },
  "language_info": {
   "codemirror_mode": {
    "name": "ipython",
    "version": 2
   },
   "file_extension": ".py",
   "mimetype": "text/x-python",
   "name": "python",
   "nbconvert_exporter": "python",
   "pygments_lexer": "ipython2",
   "version": "2.7.16"
  }
 },
 "nbformat": 4,
 "nbformat_minor": 2
}
